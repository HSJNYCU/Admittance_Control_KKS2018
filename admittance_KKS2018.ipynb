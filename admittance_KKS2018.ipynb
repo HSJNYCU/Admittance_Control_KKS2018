{
 "cells": [
  {
   "cell_type": "markdown",
   "id": "c3c22dc1",
   "metadata": {},
   "source": [
    "# Note of Admittance control for physical human–robot interaction\n",
    "\n",
    "For the original paper, please refer to the [website](https://journals.sagepub.com/doi/full/10.1177/0278364918768950).\n",
    "\n",
    "Here is just some notes I wrote to understand this great paper."
   ]
  },
  {
   "cell_type": "code",
   "execution_count": null,
   "id": "e9cb9878",
   "metadata": {},
   "outputs": [],
   "source": []
  },
  {
   "cell_type": "markdown",
   "id": "5ef6d064",
   "metadata": {},
   "source": [
    "## The Baseline Model\n",
    "\n",
    "The baseline model is given by \n",
    "\n",
    "![title](img/fig5.gif)\n",
    "\n",
    "The equation of this model is simply:\n",
    "\n",
    "$$(m_r + m_{ps}) \\dot{v}(t) + b_r v(t) = F_{ext}(t) + F_c(t) + k_r F_{dst}$$\n",
    "\n",
    "where\n",
    "\n",
    "$m_r$\n",
    "\n",
    "$m_{ps}$\n"
   ]
  },
  {
   "cell_type": "code",
   "execution_count": null,
   "id": "9b20bf57",
   "metadata": {},
   "outputs": [],
   "source": []
  },
  {
   "cell_type": "code",
   "execution_count": null,
   "id": "f829d359",
   "metadata": {},
   "outputs": [],
   "source": []
  },
  {
   "cell_type": "code",
   "execution_count": null,
   "id": "274b907c",
   "metadata": {},
   "outputs": [],
   "source": []
  },
  {
   "cell_type": "code",
   "execution_count": null,
   "id": "7455ab86",
   "metadata": {},
   "outputs": [],
   "source": []
  },
  {
   "cell_type": "code",
   "execution_count": null,
   "id": "4f3b3576",
   "metadata": {},
   "outputs": [],
   "source": []
  }
 ],
 "metadata": {
  "kernelspec": {
   "display_name": "Python 3",
   "language": "python",
   "name": "python3"
  },
  "language_info": {
   "codemirror_mode": {
    "name": "ipython",
    "version": 3
   },
   "file_extension": ".py",
   "mimetype": "text/x-python",
   "name": "python",
   "nbconvert_exporter": "python",
   "pygments_lexer": "ipython3",
   "version": "3.7.3"
  }
 },
 "nbformat": 4,
 "nbformat_minor": 5
}
